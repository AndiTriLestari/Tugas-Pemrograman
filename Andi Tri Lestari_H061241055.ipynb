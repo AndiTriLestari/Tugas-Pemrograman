{
 "cells": [
  {
   "cell_type": "markdown",
   "metadata": {},
   "source": [
    "### Tugas Pengantar Pemrograman\n",
    "#### Nama : Andi Tri Lestari\n",
    "#### NIM : H061241055\n",
    "#### Kelas : B"
   ]
  },
  {
   "cell_type": "markdown",
   "metadata": {},
   "source": [
    "##### Nomor 1"
   ]
  },
  {
   "cell_type": "code",
   "execution_count": 2,
   "metadata": {},
   "outputs": [
    {
     "name": "stdout",
     "output_type": "stream",
     "text": [
      "NIM: H061241055\n",
      "Harga baju: 300000\n",
      "Total harga setelah diskon adalah: 270000.00\n"
     ]
    }
   ],
   "source": [
    "def hitung_total_harga(harga_asli, nim):\n",
    "    nim_str = ''.join(filter(str.isdigit, str(nim)))\n",
    "    tiga_angka_terakhir = int(nim_str[-3:]) if len(nim_str) >= 3 else 0\n",
    "    if tiga_angka_terakhir > 600:\n",
    "        diskon = 0.20  \n",
    "    else:\n",
    "        diskon = 0.10  \n",
    "    total_harga = harga_asli * (1 - diskon)\n",
    "    return total_harga\n",
    "nim = \"H061241055\"\n",
    "harga_asli = 300000\n",
    "total_harga = hitung_total_harga(harga_asli, nim)\n",
    "print(f\"NIM: {nim}\")\n",
    "print(f\"Harga baju: {harga_asli}\")\n",
    "print(f\"Total harga setelah diskon adalah: {total_harga:.2f}\")"
   ]
  },
  {
   "cell_type": "markdown",
   "metadata": {},
   "source": [
    "##### Nomor 2"
   ]
  },
  {
   "cell_type": "code",
   "execution_count": 2,
   "metadata": {},
   "outputs": [
    {
     "name": "stdout",
     "output_type": "stream",
     "text": [
      "Anda mendapatkan beasiswa!\n"
     ]
    }
   ],
   "source": [
    "def cek_beasiswa(nim, nilai):\n",
    "    tiga_angka_terakhir = int(nim[-3:])\n",
    "    \n",
    "    if tiga_angka_terakhir % 2 == 0:\n",
    "        syarat_nilai = 85\n",
    "    else:\n",
    "        syarat_nilai = 80\n",
    "    \n",
    "    if nilai >= syarat_nilai:\n",
    "        return \"Anda mendapatkan beasiswa!\"\n",
    "    else:\n",
    "        return \"Maaf, Anda belum memenuhi syarat beasiswa.\"\n",
    "\n",
    "# Contoh penggunaan\n",
    "nim = \"H061241055\"\n",
    "nilai = 82\n",
    "print(cek_beasiswa(nim, nilai))\n"
   ]
  },
  {
   "cell_type": "markdown",
   "metadata": {},
   "source": [
    "##### Nomor 3"
   ]
  },
  {
   "cell_type": "code",
   "execution_count": 19,
   "metadata": {},
   "outputs": [
    {
     "name": "stdout",
     "output_type": "stream",
     "text": [
      "Anda mendapatkan diskon 15%! Potongan: Rp 52500.00\n",
      "Total yang harus dibayar: Rp 297500.00\n"
     ]
    }
   ],
   "source": [
    "def hitung_total_belanja(total_belanja):\n",
    "    batas_diskon = 300000 - 55\n",
    "    diskon_persen = 15 / 100\n",
    "\n",
    "    if total_belanja > batas_diskon:\n",
    "        potongan = total_belanja * diskon_persen\n",
    "        total_bayar = total_belanja - potongan\n",
    "        print(f\"Anda mendapatkan diskon 15%! Potongan: Rp {potongan:.2f}\")\n",
    "    else:\n",
    "        total_bayar = total_belanja\n",
    "        print(\"Tidak ada diskon.\")\n",
    "\n",
    "    return total_bayar\n",
    "\n",
    "total_belanja = 350000\n",
    "total_bayar = hitung_total_belanja(total_belanja)\n",
    "\n",
    "print(f\"Total yang harus dibayar: Rp {total_bayar:.2f}\")"
   ]
  },
  {
   "cell_type": "markdown",
   "metadata": {},
   "source": [
    "##### Nomor 4"
   ]
  },
  {
   "cell_type": "code",
   "execution_count": 18,
   "metadata": {},
   "outputs": [
    {
     "name": "stdout",
     "output_type": "stream",
     "text": [
      "Anda mendapatkan bonus! Bonus: Rp 750055.00\n",
      "Total gaji yang diterima: Rp 5750055.00\n"
     ]
    }
   ],
   "source": [
    "def hitung_gaji(gaji, jam_kerja):\n",
    "    batas_jam = 50\n",
    "    bonus_persen = 15 / 100\n",
    "    tambahan_bonus = 55\n",
    "\n",
    "    if jam_kerja > batas_jam:\n",
    "        bonus = (gaji * bonus_persen) + tambahan_bonus\n",
    "        total_gaji = gaji + bonus\n",
    "        print(f\"Anda mendapatkan bonus! Bonus: Rp {bonus:.2f}\")\n",
    "    else:\n",
    "        total_gaji = gaji\n",
    "        print(\"Tidak ada bonus.\")\n",
    "\n",
    "    return total_gaji\n",
    "\n",
    "gaji = 5000000\n",
    "jam_kerja = 55\n",
    "total_gaji = hitung_gaji(gaji, jam_kerja)\n",
    "\n",
    "print(f\"Total gaji yang diterima: Rp {total_gaji:.2f}\")\n"
   ]
  },
  {
   "cell_type": "markdown",
   "metadata": {},
   "source": [
    "##### Nomor 5"
   ]
  },
  {
   "cell_type": "code",
   "execution_count": 17,
   "metadata": {},
   "outputs": [
    {
     "name": "stdout",
     "output_type": "stream",
     "text": [
      "Anda mendapatkan diskon 10%! Potongan: Rp 15000.00\n",
      "Total yang harus dibayar: Rp 135000.00\n"
     ]
    }
   ],
   "source": [
    "def hitung_total_biaya(total_pesanan):\n",
    "    batas_diskon = 100000 + 55  \n",
    "    diskon_persen = 10 / 100  \n",
    "\n",
    "    if total_pesanan > batas_diskon:\n",
    "        potongan = total_pesanan * diskon_persen\n",
    "        total_bayar = total_pesanan - potongan\n",
    "        print(f\"Anda mendapatkan diskon 10%! Potongan: Rp {potongan:.2f}\")\n",
    "    else:\n",
    "        total_bayar = total_pesanan\n",
    "        print(\"Tidak ada diskon.\")\n",
    "\n",
    "    return total_bayar\n",
    "\n",
    "total_pesanan = 150000  \n",
    "total_bayar = hitung_total_biaya(total_pesanan)\n",
    "\n",
    "print(f\"Total yang harus dibayar: Rp {total_bayar:.2f}\")"
   ]
  },
  {
   "cell_type": "markdown",
   "metadata": {},
   "source": [
    "##### Nomor 6"
   ]
  },
  {
   "cell_type": "code",
   "execution_count": 8,
   "metadata": {},
   "outputs": [
    {
     "name": "stdout",
     "output_type": "stream",
     "text": [
      "Selamat! Anda berhasil memenuhi target latihan.\n"
     ]
    }
   ],
   "source": [
    "def cek_target_lari(jarak_lari):\n",
    "    target_jarak = 55 % 10  \n",
    "\n",
    "    if jarak_lari > target_jarak:\n",
    "        print(\"Selamat! Anda berhasil memenuhi target latihan.\")\n",
    "    else:\n",
    "        print(\"Anda belum memenuhi target latihan. Tetap semangat!\")\n",
    "\n",
    "jarak_lari = 10\n",
    "cek_target_lari(jarak_lari)"
   ]
  },
  {
   "cell_type": "markdown",
   "metadata": {},
   "source": [
    "##### Nomor 7"
   ]
  },
  {
   "cell_type": "code",
   "execution_count": 3,
   "metadata": {},
   "outputs": [
    {
     "name": "stdout",
     "output_type": "stream",
     "text": [
      "Anda mendapatkan diskon 25%! Potongan: Rp 12500.00\n",
      "Total yang harus dibayar: Rp 37500.00\n"
     ]
    }
   ],
   "source": [
    "def hitung_harga_tiket(harga_tiket):\n",
    "    tiga_angka_terakhir = 55  # Dari NIM H061241055\n",
    "    diskon_persen = 50 if tiga_angka_terakhir % 2 == 0 else 25\n",
    "\n",
    "    potongan = harga_tiket * (diskon_persen / 100)\n",
    "    total_bayar = harga_tiket - potongan\n",
    "\n",
    "    print(f\"Anda mendapatkan diskon {diskon_persen}%! Potongan: Rp {potongan:.2f}\")\n",
    "    print(f\"Total yang harus dibayar: Rp {total_bayar:.2f}\")\n",
    "\n",
    "harga_tiket = 50000\n",
    "hitung_harga_tiket(harga_tiket)\n"
   ]
  },
  {
   "cell_type": "markdown",
   "metadata": {},
   "source": [
    "##### Nomor 8"
   ]
  },
  {
   "cell_type": "code",
   "execution_count": 16,
   "metadata": {},
   "outputs": [
    {
     "name": "stdout",
     "output_type": "stream",
     "text": [
      "NIM: H061241055\n",
      "Jumlah buku: 12\n",
      "Harga per buku: 50000\n",
      "Total harga setelah diskon adalah: 510000.00\n"
     ]
    }
   ],
   "source": [
    "def hitung_total_harga(jumlah_buku, harga_per_buku, nim):\n",
    "    nim_str = ''.join(filter(str.isdigit, str(nim)))  \n",
    "    tiga_angka_terakhir = int(nim_str[-3:]) if len(nim_str) >= 3 else 0\n",
    "    total_harga = jumlah_buku * harga_per_buku\n",
    "    if jumlah_buku > 10 and tiga_angka_terakhir > 400:\n",
    "        diskon = 0.25 \n",
    "    else:\n",
    "        diskon = 0.15  \n",
    "    total_harga_setelah_diskon = total_harga * (1 - diskon)\n",
    "    return total_harga_setelah_diskon\n",
    "nim = \"H061241055\"  \n",
    "jumlah_buku = 12    \n",
    "harga_per_buku = 50000 \n",
    "total_harga = hitung_total_harga(jumlah_buku, harga_per_buku, nim)\n",
    "print(f\"NIM: {nim}\")\n",
    "print(f\"Jumlah buku: {jumlah_buku}\")\n",
    "print(f\"Harga per buku: {harga_per_buku}\")\n",
    "print(f\"Total harga setelah diskon adalah: {total_harga:.2f}\")"
   ]
  },
  {
   "cell_type": "markdown",
   "metadata": {},
   "source": [
    "##### Nomor 9"
   ]
  },
  {
   "cell_type": "code",
   "execution_count": 19,
   "metadata": {},
   "outputs": [
    {
     "name": "stdout",
     "output_type": "stream",
     "text": [
      "NIM: H061241055\n",
      "Hasil: Negatif\n"
     ]
    }
   ],
   "source": [
    "def cek_bilangan(nim):\n",
    "    nim_str = ''.join(filter(str.isdigit, str(nim))) \n",
    "    tiga_angka_terakhir = int(nim_str[-3:]) if len(nim_str) >= 3 else 0\n",
    "    if tiga_angka_terakhir % 2 == 0: \n",
    "        return \"Positif\"\n",
    "    else:  \n",
    "        return \"Negatif\"\n",
    "nim = \"H061241055\"  \n",
    "hasil = cek_bilangan(nim)\n",
    "print(f\"NIM: {nim}\")\n",
    "print(f\"Hasil: {hasil}\")"
   ]
  },
  {
   "cell_type": "markdown",
   "metadata": {},
   "source": [
    "##### Nomor 10"
   ]
  },
  {
   "cell_type": "code",
   "execution_count": 21,
   "metadata": {},
   "outputs": [
    {
     "name": "stdout",
     "output_type": "stream",
     "text": [
      "Bukan Armstrong\n"
     ]
    }
   ],
   "source": [
    "def cek_armstrong(n):\n",
    "    if n % 2 == 0:\n",
    "        return \"Armstrong\"\n",
    "    else:\n",
    "        return \"Bukan Armstrong\"\n",
    "\n",
    "# Bilangan yang ingin dicek (sesuai permintaan: 55)\n",
    "bilangan = 55\n",
    "print(cek_armstrong(bilangan))"
   ]
  },
  {
   "cell_type": "markdown",
   "metadata": {},
   "source": [
    "##### Nomor 11"
   ]
  },
  {
   "cell_type": "code",
   "execution_count": 23,
   "metadata": {},
   "outputs": [
    {
     "name": "stdout",
     "output_type": "stream",
     "text": [
      "Daftar belanja akan dicetak sebanyak 6 kali:\n",
      "Cetakan 1: ['Beras', 'Gula', 'Cabe', 'Minyak']\n",
      "Cetakan 2: ['Beras', 'Gula', 'Cabe', 'Minyak']\n",
      "Cetakan 3: ['Beras', 'Gula', 'Cabe', 'Minyak']\n",
      "Cetakan 4: ['Beras', 'Gula', 'Cabe', 'Minyak']\n",
      "Cetakan 5: ['Beras', 'Gula', 'Cabe', 'Minyak']\n",
      "Cetakan 6: ['Beras', 'Gula', 'Cabe', 'Minyak']\n"
     ]
    }
   ],
   "source": [
    "def cetak_daftar_belanja(nim, daftar_belanja):\n",
    "    nim_str = ''.join(filter(str.isdigit, str(nim)))  \n",
    "    tiga_angka_terakhir = int(nim_str[-3:]) if len(nim_str) >= 3 else 0\n",
    "    jumlah_cetak = tiga_angka_terakhir % 7\n",
    "    print(f\"Daftar belanja akan dicetak sebanyak {jumlah_cetak} kali:\")\n",
    "    for i in range(jumlah_cetak):\n",
    "        print(f\"Cetakan {i + 1}: {daftar_belanja}\")\n",
    "nim = \"H061241055\" \n",
    "daftar_belanja = [\"Beras\", \"Gula\", \"Cabe\", \"Minyak\"] \n",
    "cetak_daftar_belanja(nim, daftar_belanja)"
   ]
  },
  {
   "cell_type": "markdown",
   "metadata": {},
   "source": [
    "##### Nomor 12"
   ]
  },
  {
   "cell_type": "code",
   "execution_count": 7,
   "metadata": {},
   "outputs": [
    {
     "name": "stdout",
     "output_type": "stream",
     "text": [
      "1 2 3 4 5 6 7 8 9 10 11 12 13 14 15 16 17 18 19 20 21 22 23 24 25 26 27 28 29 30 31 32 33 34 35 36 37 38 39 40 41 42 43 44 45 46 47 48 49 50 "
     ]
    }
   ],
   "source": [
    "def cetak_kelipatan(batas, kelipatan):\n",
    "    for i in range(1, batas + 1):\n",
    "        if i % kelipatan == 0:\n",
    "            print(i, end=\" \")\n",
    "\n",
    "nim_terakhir = 55\n",
    "kelipatan = nim_terakhir % 6  # Hasilnya 1\n",
    "batas_angka = 50\n",
    "cetak_kelipatan(batas_angka, kelipatan)"
   ]
  },
  {
   "cell_type": "markdown",
   "metadata": {},
   "source": [
    "##### Nomor 13"
   ]
  },
  {
   "cell_type": "code",
   "execution_count": 1,
   "metadata": {},
   "outputs": [
    {
     "name": "stdout",
     "output_type": "stream",
     "text": [
      "7 x 1 = 7\n",
      "7 x 2 = 14\n",
      "7 x 3 = 21\n",
      "7 x 4 = 28\n",
      "7 x 5 = 35\n",
      "7 x 6 = 42\n",
      "7 x 7 = 49\n",
      "7 x 8 = 56\n",
      "7 x 9 = 63\n",
      "7 x 10 = 70\n"
     ]
    }
   ],
   "source": [
    "def cetak_tabel_perkalian(angka, batas):\n",
    "    for i in range(1, batas + 1):\n",
    "        print(f\"{angka} x {i} = {angka * i}\")\n",
    "\n",
    "nim_terakhir = 55\n",
    "angka_perkalian = nim_terakhir % 8  # Hasilnya 7\n",
    "batas_perkalian = 10 \n",
    "\n",
    "cetak_tabel_perkalian(angka_perkalian, batas_perkalian)\n"
   ]
  },
  {
   "cell_type": "markdown",
   "metadata": {},
   "source": [
    "##### Nomor 14"
   ]
  },
  {
   "cell_type": "code",
   "execution_count": 2,
   "metadata": {},
   "outputs": [
    {
     "name": "stdout",
     "output_type": "stream",
     "text": [
      "Pola bintang dengan sisi 0:\n"
     ]
    }
   ],
   "source": [
    "def cetak_pola_bintang(nim):\n",
    "    nim_str = ''.join(filter(str.isdigit, str(nim)))  \n",
    "    tiga_angka_terakhir = int(nim_str[-3:]) if len(nim_str) >= 3 else 0\n",
    "    sisi = tiga_angka_terakhir % 5\n",
    "    print(f\"Pola bintang dengan sisi {sisi}:\")\n",
    "    for i in range(sisi):\n",
    "        print('* ' * sisi)\n",
    "nim = \"H061241055\"  \n",
    "cetak_pola_bintang(nim)"
   ]
  },
  {
   "cell_type": "markdown",
   "metadata": {},
   "source": [
    "##### Nomor 15"
   ]
  },
  {
   "cell_type": "code",
   "execution_count": 11,
   "metadata": {},
   "outputs": [
    {
     "name": "stdout",
     "output_type": "stream",
     "text": [
      "4 6 8 9 10 12 14 15 16 18 20 21 22 24 25 26 27 28 30 32 33 34 35 36 38 39 40 42 44 45 46 48 49 50 51 52 54 55 "
     ]
    }
   ],
   "source": [
    "def is_komposit(n):\n",
    "    if n < 2:\n",
    "        return False  # 0 dan 1 bukan bilangan komposit\n",
    "    faktor = 0\n",
    "    for i in range(1, n + 1):\n",
    "        if n % i == 0:\n",
    "            faktor += 1\n",
    "    return faktor > 2  # Bilangan komposit memiliki lebih dari 2 faktor\n",
    "\n",
    "def cetak_bilangan_komposit(batas):\n",
    "    for i in range(1, batas + 1):\n",
    "        if is_komposit(i):\n",
    "            print(i, end=\" \")\n",
    "\n",
    "batas_angka = 55\n",
    "cetak_bilangan_komposit(batas_angka)"
   ]
  },
  {
   "cell_type": "markdown",
   "metadata": {},
   "source": [
    "##### Nomor 16"
   ]
  },
  {
   "cell_type": "code",
   "execution_count": 14,
   "metadata": {},
   "outputs": [
    {
     "name": "stdout",
     "output_type": "stream",
     "text": [
      "1\n",
      "4\n",
      "9\n",
      "16\n",
      "25\n"
     ]
    }
   ],
   "source": [
    "def cetak_deret_kuadrat(batas):\n",
    "    for i in range(1, batas + 1):\n",
    "        print(i**2)  # Mencetak kuadrat dari setiap bilangan\n",
    "\n",
    "# Menentukan batas berdasarkan NIM (055)\n",
    "batas_angka = 55 % 10  # 55 % 10 = 5\n",
    "\n",
    "# Memanggil fungsi\n",
    "cetak_deret_kuadrat(batas_angka)\n"
   ]
  },
  {
   "cell_type": "markdown",
   "metadata": {},
   "source": [
    "##### Nomor 17"
   ]
  },
  {
   "cell_type": "code",
   "execution_count": 19,
   "metadata": {},
   "outputs": [
    {
     "name": "stdout",
     "output_type": "stream",
     "text": [
      "Kelipatan yang akan dicetak: 6\n",
      "Bilangan kelipatan 6 dari 1 sampai 100:\n",
      "6\n",
      "12\n",
      "18\n",
      "24\n",
      "30\n",
      "36\n",
      "42\n",
      "48\n",
      "54\n",
      "60\n",
      "66\n",
      "72\n",
      "78\n",
      "84\n",
      "90\n",
      "96\n"
     ]
    }
   ],
   "source": [
    "def cetak_kelipatan(nim):\n",
    "    nim_str = ''.join(filter(str.isdigit, str(nim)))  \n",
    "    tiga_angka_terakhir = int(nim_str[-3:]) if len(nim_str) >= 3 else 0\n",
    "    kelipatan = tiga_angka_terakhir % 7  # 055 % 7 = 6\n",
    "    \n",
    "    print(f\"Kelipatan yang akan dicetak: {kelipatan}\")\n",
    "    \n",
    "    if kelipatan == 0:\n",
    "        print(\"Tidak ada kelipatan yang bisa dicetak karena hasilnya 0.\")\n",
    "        return  # Menghentikan fungsi jika kelipatan = 0\n",
    "    \n",
    "    print(f\"Bilangan kelipatan {kelipatan} dari 1 sampai 100:\")\n",
    "    \n",
    "    for i in range(kelipatan, 101, kelipatan):\n",
    "        print(i)\n",
    "\n",
    "# Memanggil fungsi dengan NIM: H061241055\n",
    "nim = \"H061241055\"  \n",
    "cetak_kelipatan(nim)\n"
   ]
  },
  {
   "cell_type": "markdown",
   "metadata": {},
   "source": [
    "##### Nomor 18"
   ]
  },
  {
   "cell_type": "code",
   "execution_count": 20,
   "metadata": {},
   "outputs": [
    {
     "name": "stdout",
     "output_type": "stream",
     "text": [
      "Bilangan genap dari 2 sampai 55:\n",
      "2\n",
      "4\n",
      "6\n",
      "8\n",
      "10\n",
      "12\n",
      "14\n",
      "16\n",
      "18\n",
      "20\n",
      "22\n",
      "24\n",
      "26\n",
      "28\n",
      "30\n",
      "32\n",
      "34\n",
      "36\n",
      "38\n",
      "40\n",
      "42\n",
      "44\n",
      "46\n",
      "48\n",
      "50\n",
      "52\n",
      "54\n"
     ]
    }
   ],
   "source": [
    "def cetak_bilangan_genap(nim):\n",
    "    # Mengambil 3 angka terakhir dari NIM (hanya digit)\n",
    "    nim_str = ''.join(filter(str.isdigit, str(nim)))  \n",
    "    batas_akhir = int(nim_str[-3:]) if len(nim_str) >= 3 else 2  # Minimal 2\n",
    "    \n",
    "    print(f\"Bilangan genap dari 2 sampai {batas_akhir}:\")\n",
    "    \n",
    "    for i in range(2, batas_akhir + 1, 2):\n",
    "        print(i)\n",
    "\n",
    "nim = \"H061241055\"\n",
    "cetak_bilangan_genap(nim)"
   ]
  },
  {
   "cell_type": "markdown",
   "metadata": {},
   "source": [
    "##### Nomor 19"
   ]
  },
  {
   "cell_type": "code",
   "execution_count": 21,
   "metadata": {},
   "outputs": [
    {
     "name": "stdout",
     "output_type": "stream",
     "text": [
      "Faktorial dari 1 adalah 1\n"
     ]
    }
   ],
   "source": [
    "import math\n",
    "\n",
    "def hitung_faktorial(nim):\n",
    "    # Mengambil 3 angka terakhir dari NIM (hanya digit)\n",
    "    nim_str = ''.join(filter(str.isdigit, str(nim)))  \n",
    "    tiga_angka_terakhir = int(nim_str[-3:]) if len(nim_str) >= 3 else 0\n",
    "    angka_faktorial = tiga_angka_terakhir % 6  # 055 % 6 = 1\n",
    "    hasil_faktorial = math.factorial(angka_faktorial)\n",
    "    \n",
    "    print(f\"Faktorial dari {angka_faktorial} adalah {hasil_faktorial}\")\n",
    "\n",
    "nim = \"H061241055\"\n",
    "hitung_faktorial(nim)\n"
   ]
  },
  {
   "cell_type": "markdown",
   "metadata": {},
   "source": [
    "##### Nomor 20"
   ]
  },
  {
   "cell_type": "code",
   "execution_count": 24,
   "metadata": {},
   "outputs": [
    {
     "name": "stdout",
     "output_type": "stream",
     "text": [
      "Selamat Datang\n",
      "Selamat Datang\n",
      "Selamat Datang\n"
     ]
    }
   ],
   "source": [
    "def cetak_pesan(nim):\n",
    "    # Mengambil 3 angka terakhir dari NIM (hanya digit)\n",
    "    nim_str = ''.join(filter(str.isdigit, str(nim)))  \n",
    "    tiga_angka_terakhir = int(nim_str[-3:]) if len(nim_str) >= 3 else 0\n",
    "    jumlah_cetak = tiga_angka_terakhir % 4  # 055 % 4 = 3\n",
    "    \n",
    "    for _ in range(jumlah_cetak):\n",
    "        print(\"Selamat Datang\")\n",
    "nim = \"H061241055\"\n",
    "cetak_pesan(nim)\n"
   ]
  }
 ],
 "metadata": {
  "kernelspec": {
   "display_name": "Python 3",
   "language": "python",
   "name": "python3"
  },
  "language_info": {
   "codemirror_mode": {
    "name": "ipython",
    "version": 3
   },
   "file_extension": ".py",
   "mimetype": "text/x-python",
   "name": "python",
   "nbconvert_exporter": "python",
   "pygments_lexer": "ipython3",
   "version": "3.13.2"
  }
 },
 "nbformat": 4,
 "nbformat_minor": 2
}
